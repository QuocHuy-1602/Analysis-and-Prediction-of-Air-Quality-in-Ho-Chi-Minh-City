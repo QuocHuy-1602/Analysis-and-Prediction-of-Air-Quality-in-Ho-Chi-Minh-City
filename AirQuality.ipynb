{
 "cells": [
  {
   "cell_type": "markdown",
   "id": "d41ade99",
   "metadata": {},
   "source": [
    "# Giới thiệu đề tài\n",
    "Theo UNICEF, thực trạng ô nhiễm môi trường hiện nay khá nóng và đang diễn ra ở khắp nơi trên thế giới, đặc biệt tại các nước đang phát triển, trong đó có Việt Nam. Bên cạnh ô nhiễm môi trường đất, nước do chất thải từ các công ty, xí nghiệp chưa qua xử lý đúng quy trình bị xả thẳng ra môi trường thì chất thải, khói bụi từ hoạt động của các nhà máy sản xuất, khí thải từ các phương tiện giao thông,... đã làm cho chất lượng không khí, đặc biệt tại các thành phố lớn, giảm sút và ô nhiễm đáng kể gây ra ô nhiễm không khí khá trầm trọng. Ô nhiễm không khí làm cho mọi người phải tiếp xúc với các hạt mịn trong không khí bị ô nhiễm. Các hạt mịn này thâm nhập sâu vào phổi và hệ thống tim mạch, gây ra các bệnh đột quỵ, bệnh tim, ung thư phổi, bệnh phổi tắc nghẽn mãn tính và các bệnh nhiễm trùng đường hô hấp, ảnh hưởng tới các nền kinh tế và chất lượng cuộc sống của con người.\n",
    "\n",
    "Ô nhiễm không khí đe dọa sức khỏe của người dân ở khắp mọi nơi trên thế giới. Ước tính mới đây năm 2018 cho thấy rằng 9/10 người dân phải hít thở không khí chứa hàm lượng các chất gây ô nhiễm cao. Ô nhiễm không khí cả ở bên ngoài và trong nhà gây ra khoảng 7 triệu ca tử vong hàng năm trên toàn cầu; chỉ tính riêng khu vực Tây Thái Bình Dương, khoảng 2,2 triệu người tử vong mỗi năm. Ở Việt Nam, khoảng 60.000 người chết mỗi năm có liên quan đến ô nhiễm không khí.\n",
    "\n",
    "Vì vậy nhóm quyết định thu thập dữ liệu về chất lượng không khí ở các thành phố lớn, cụ thể là thành phố Hồ Chí Minh, để có những cái nhìn về chất lượng không khí nơi đó cũng như tại các thành phố lớn trên thế giới.\n",
    "\n",
    "Dừ liệu được nhóm em thu thập từ https://openweathermap.org"
   ]
  },
  {
   "cell_type": "markdown",
   "id": "3212ccc9",
   "metadata": {},
   "source": [
    "# Import các thư viện cần thiết"
   ]
  },
  {
   "cell_type": "code",
   "execution_count": 3,
   "id": "f3f9bac6",
   "metadata": {},
   "outputs": [],
   "source": [
    "# %matplotlib inline\n",
    "import matplotlib.pyplot as plt\n",
    "import requests\n",
    "import json\n",
    "import pandas as pd\n",
    "import numpy as np\n",
    "import csv\n",
    "\n",
    "from sklearn.model_selection import train_test_split\n",
    "from sklearn.preprocessing import StandardScaler\n",
    "from sklearn.impute import SimpleImputer\n",
    "from sklearn.base import BaseEstimator, TransformerMixin\n",
    "from sklearn.pipeline import make_pipeline\n",
    "from sklearn.neural_network import MLPClassifier\n",
    "from sklearn.tree import DecisionTreeClassifier\n",
    "from sklearn.neighbors import KNeighborsClassifier\n",
    "from sklearn.metrics import r2_score"
   ]
  },
  {
   "cell_type": "markdown",
   "id": "7cb235ee",
   "metadata": {},
   "source": [
    "# Bắt đầu quá trình thu thập dữ liệu\n",
    "Chúng em sẽ thu thập dữ liệu thông qua api do trang https://openweathermap.org đã cung cấp sẵn và lưu và biến data. Api: http://api.openweathermap.org/data/2.5/air_pollution/history?lat=10.7546664&lon=106.415029&start=946726894&end=1610129052&appid=9f7c977884b479967cee75682a860b6b"
   ]
  },
  {
   "cell_type": "code",
   "execution_count": 4,
   "id": "5d162f69",
   "metadata": {},
   "outputs": [],
   "source": [
    "#REST API\n",
    "'''\n",
    "    Sử dụng api từ openweathermap.org\n",
    "    Lấy dữ liệu chất lượng không khí tại TP HCM từ 2018 - 2021 \n",
    "    Nhận được 1032 bộ dữ liệu ~ 3 năm\n",
    "\n",
    "'''\n",
    "data=requests.get('http://api.openweathermap.org/data/2.5/air_pollution/history?lat=10.7546664&lon=106.415029&start=946726894&end=1610129052&appid=9f7c977884b479967cee75682a860b6b')\n"
   ]
  },
  {
   "cell_type": "code",
   "execution_count": 5,
   "id": "e993bdfb",
   "metadata": {},
   "outputs": [],
   "source": [
    "#Parse JSON\n",
    "air_quality=json.loads(data.text)"
   ]
  },
  {
   "cell_type": "code",
   "execution_count": 6,
   "id": "9c1aafc5",
   "metadata": {},
   "outputs": [
    {
     "data": {
      "text/plain": [
       "{'main': {'aqi': 3},\n",
       " 'components': {'co': 727.65,\n",
       "  'no': 3.07,\n",
       "  'no2': 11.14,\n",
       "  'o3': 10.1,\n",
       "  'so2': 2.53,\n",
       "  'pm2_5': 22.03,\n",
       "  'pm10': 29.62,\n",
       "  'nh3': 7.09},\n",
       " 'dt': 1606266000}"
      ]
     },
     "execution_count": 6,
     "metadata": {},
     "output_type": "execute_result"
    }
   ],
   "source": [
    "\n",
    "#Parse JSON\n",
    "air_quality=json.loads(data.text)\n",
    "#Test\n",
    "air_quality['list'][0]"
   ]
  },
  {
   "cell_type": "code",
   "execution_count": 7,
   "id": "b962bbcb",
   "metadata": {},
   "outputs": [],
   "source": [
    "#Simplize dicts\n",
    "def make_flat_dict(p):\n",
    "    res={};\n",
    "    components=p['components']\n",
    "    \n",
    "    res['dt']=p['dt']\n",
    "    res['co']=components['co']\n",
    "    res['no']=components['no']\n",
    "    res['no2']=components['no2']\n",
    "    res['o3']=components['o3']\n",
    "    res['so2']=components['so2']\n",
    "    res['pm2_5']=components['pm2_5']\n",
    "    res['pm10']=components['pm10']\n",
    "    res['nh3']=components['nh3']\n",
    "    res['aqi']=p['main']['aqi']\n",
    "    \n",
    "    return res\n",
    "    pass"
   ]
  },
  {
   "cell_type": "code",
   "execution_count": 8,
   "id": "35acf750",
   "metadata": {},
   "outputs": [],
   "source": [
    "# Make list records\n",
    "list_records=[]\n",
    "for record in air_quality['list']:\n",
    "    list_records.append(make_flat_dict(record))"
   ]
  },
  {
   "cell_type": "markdown",
   "id": "33f3ef90",
   "metadata": {},
   "source": [
    "###### Kích thước dữ liệu thu được"
   ]
  },
  {
   "cell_type": "code",
   "execution_count": 9,
   "id": "4bbf2782",
   "metadata": {},
   "outputs": [
    {
     "data": {
      "text/plain": [
       "1074"
      ]
     },
     "execution_count": 9,
     "metadata": {},
     "output_type": "execute_result"
    }
   ],
   "source": [
    "len(list_records)"
   ]
  },
  {
   "cell_type": "code",
   "execution_count": 10,
   "id": "f7ded66f",
   "metadata": {},
   "outputs": [],
   "source": [
    "#Write to csv\n",
    "with open('air_quality.csv', 'w',newline='') as csvfile:\n",
    "        writer = csv.DictWriter(csvfile, fieldnames=list_records[0].keys())\n",
    "        writer.writeheader()\n",
    "        for data in list_records:\n",
    "            writer.writerow(data)"
   ]
  },
  {
   "cell_type": "markdown",
   "id": "0511850b",
   "metadata": {},
   "source": [
    "# Khám phá dữ liệu (đủ để có thể xác định câu hỏi)"
   ]
  },
  {
   "cell_type": "code",
   "execution_count": 11,
   "id": "90ee1c91",
   "metadata": {},
   "outputs": [],
   "source": [
    "# Đọc dữ liệu từ file đã thu thập trước đó\n",
    "data_df = pd.read_csv('air_quality.csv')"
   ]
  },
  {
   "cell_type": "markdown",
   "id": "7dbb9b82",
   "metadata": {},
   "source": [
    "##### Tổng quan về dữ liệu thu được (hiện 20 hàng để xem tổng quát )"
   ]
  },
  {
   "cell_type": "code",
   "execution_count": 12,
   "id": "ef6a2291",
   "metadata": {},
   "outputs": [
    {
     "data": {
      "text/html": [
       "<div>\n",
       "<style scoped>\n",
       "    .dataframe tbody tr th:only-of-type {\n",
       "        vertical-align: middle;\n",
       "    }\n",
       "\n",
       "    .dataframe tbody tr th {\n",
       "        vertical-align: top;\n",
       "    }\n",
       "\n",
       "    .dataframe thead th {\n",
       "        text-align: right;\n",
       "    }\n",
       "</style>\n",
       "<table border=\"1\" class=\"dataframe\">\n",
       "  <thead>\n",
       "    <tr style=\"text-align: right;\">\n",
       "      <th></th>\n",
       "      <th>dt</th>\n",
       "      <th>co</th>\n",
       "      <th>no</th>\n",
       "      <th>no2</th>\n",
       "      <th>o3</th>\n",
       "      <th>so2</th>\n",
       "      <th>pm2_5</th>\n",
       "      <th>pm10</th>\n",
       "      <th>nh3</th>\n",
       "      <th>aqi</th>\n",
       "    </tr>\n",
       "  </thead>\n",
       "  <tbody>\n",
       "    <tr>\n",
       "      <th>0</th>\n",
       "      <td>1606266000</td>\n",
       "      <td>727.65</td>\n",
       "      <td>3.07</td>\n",
       "      <td>11.14</td>\n",
       "      <td>10.10</td>\n",
       "      <td>2.53</td>\n",
       "      <td>22.03</td>\n",
       "      <td>29.62</td>\n",
       "      <td>7.09</td>\n",
       "      <td>3</td>\n",
       "    </tr>\n",
       "    <tr>\n",
       "      <th>1</th>\n",
       "      <td>1606269600</td>\n",
       "      <td>761.03</td>\n",
       "      <td>5.70</td>\n",
       "      <td>13.54</td>\n",
       "      <td>15.38</td>\n",
       "      <td>5.96</td>\n",
       "      <td>21.35</td>\n",
       "      <td>31.40</td>\n",
       "      <td>9.50</td>\n",
       "      <td>3</td>\n",
       "    </tr>\n",
       "    <tr>\n",
       "      <th>2</th>\n",
       "      <td>1606273200</td>\n",
       "      <td>934.60</td>\n",
       "      <td>8.27</td>\n",
       "      <td>21.25</td>\n",
       "      <td>25.03</td>\n",
       "      <td>12.52</td>\n",
       "      <td>26.29</td>\n",
       "      <td>39.77</td>\n",
       "      <td>12.79</td>\n",
       "      <td>4</td>\n",
       "    </tr>\n",
       "    <tr>\n",
       "      <th>3</th>\n",
       "      <td>1606276800</td>\n",
       "      <td>594.14</td>\n",
       "      <td>3.80</td>\n",
       "      <td>15.42</td>\n",
       "      <td>76.53</td>\n",
       "      <td>12.99</td>\n",
       "      <td>20.08</td>\n",
       "      <td>28.83</td>\n",
       "      <td>7.28</td>\n",
       "      <td>3</td>\n",
       "    </tr>\n",
       "    <tr>\n",
       "      <th>4</th>\n",
       "      <td>1606280400</td>\n",
       "      <td>560.76</td>\n",
       "      <td>2.12</td>\n",
       "      <td>14.40</td>\n",
       "      <td>135.90</td>\n",
       "      <td>18.60</td>\n",
       "      <td>34.19</td>\n",
       "      <td>43.10</td>\n",
       "      <td>6.65</td>\n",
       "      <td>4</td>\n",
       "    </tr>\n",
       "    <tr>\n",
       "      <th>5</th>\n",
       "      <td>1606284000</td>\n",
       "      <td>654.22</td>\n",
       "      <td>2.01</td>\n",
       "      <td>19.19</td>\n",
       "      <td>191.69</td>\n",
       "      <td>35.76</td>\n",
       "      <td>63.55</td>\n",
       "      <td>73.70</td>\n",
       "      <td>7.28</td>\n",
       "      <td>5</td>\n",
       "    </tr>\n",
       "    <tr>\n",
       "      <th>6</th>\n",
       "      <td>1606287600</td>\n",
       "      <td>654.22</td>\n",
       "      <td>0.77</td>\n",
       "      <td>23.99</td>\n",
       "      <td>197.41</td>\n",
       "      <td>44.35</td>\n",
       "      <td>70.69</td>\n",
       "      <td>80.74</td>\n",
       "      <td>7.16</td>\n",
       "      <td>5</td>\n",
       "    </tr>\n",
       "    <tr>\n",
       "      <th>7</th>\n",
       "      <td>1606291200</td>\n",
       "      <td>627.52</td>\n",
       "      <td>0.69</td>\n",
       "      <td>29.82</td>\n",
       "      <td>165.94</td>\n",
       "      <td>42.44</td>\n",
       "      <td>55.14</td>\n",
       "      <td>65.30</td>\n",
       "      <td>7.28</td>\n",
       "      <td>5</td>\n",
       "    </tr>\n",
       "    <tr>\n",
       "      <th>8</th>\n",
       "      <td>1606294800</td>\n",
       "      <td>600.82</td>\n",
       "      <td>0.59</td>\n",
       "      <td>33.59</td>\n",
       "      <td>137.33</td>\n",
       "      <td>37.19</td>\n",
       "      <td>41.74</td>\n",
       "      <td>52.30</td>\n",
       "      <td>7.79</td>\n",
       "      <td>4</td>\n",
       "    </tr>\n",
       "    <tr>\n",
       "      <th>9</th>\n",
       "      <td>1606298400</td>\n",
       "      <td>667.57</td>\n",
       "      <td>0.48</td>\n",
       "      <td>38.04</td>\n",
       "      <td>103.00</td>\n",
       "      <td>26.46</td>\n",
       "      <td>34.72</td>\n",
       "      <td>46.30</td>\n",
       "      <td>13.30</td>\n",
       "      <td>4</td>\n",
       "    </tr>\n",
       "    <tr>\n",
       "      <th>10</th>\n",
       "      <td>1606302000</td>\n",
       "      <td>881.20</td>\n",
       "      <td>0.04</td>\n",
       "      <td>42.50</td>\n",
       "      <td>67.95</td>\n",
       "      <td>16.93</td>\n",
       "      <td>36.74</td>\n",
       "      <td>50.34</td>\n",
       "      <td>20.52</td>\n",
       "      <td>4</td>\n",
       "    </tr>\n",
       "    <tr>\n",
       "      <th>11</th>\n",
       "      <td>1606305600</td>\n",
       "      <td>1094.82</td>\n",
       "      <td>0.00</td>\n",
       "      <td>41.13</td>\n",
       "      <td>45.78</td>\n",
       "      <td>10.49</td>\n",
       "      <td>41.69</td>\n",
       "      <td>56.62</td>\n",
       "      <td>22.04</td>\n",
       "      <td>4</td>\n",
       "    </tr>\n",
       "    <tr>\n",
       "      <th>12</th>\n",
       "      <td>1606309200</td>\n",
       "      <td>1295.09</td>\n",
       "      <td>0.01</td>\n",
       "      <td>43.53</td>\n",
       "      <td>28.25</td>\n",
       "      <td>7.63</td>\n",
       "      <td>47.45</td>\n",
       "      <td>65.88</td>\n",
       "      <td>17.23</td>\n",
       "      <td>4</td>\n",
       "    </tr>\n",
       "    <tr>\n",
       "      <th>13</th>\n",
       "      <td>1606312800</td>\n",
       "      <td>1575.47</td>\n",
       "      <td>0.46</td>\n",
       "      <td>50.72</td>\n",
       "      <td>11.44</td>\n",
       "      <td>9.06</td>\n",
       "      <td>58.50</td>\n",
       "      <td>84.09</td>\n",
       "      <td>14.06</td>\n",
       "      <td>5</td>\n",
       "    </tr>\n",
       "    <tr>\n",
       "      <th>14</th>\n",
       "      <td>1606316400</td>\n",
       "      <td>2056.12</td>\n",
       "      <td>6.09</td>\n",
       "      <td>55.52</td>\n",
       "      <td>0.98</td>\n",
       "      <td>14.78</td>\n",
       "      <td>78.84</td>\n",
       "      <td>112.64</td>\n",
       "      <td>11.91</td>\n",
       "      <td>5</td>\n",
       "    </tr>\n",
       "    <tr>\n",
       "      <th>15</th>\n",
       "      <td>1606320000</td>\n",
       "      <td>2616.88</td>\n",
       "      <td>20.56</td>\n",
       "      <td>47.30</td>\n",
       "      <td>0.01</td>\n",
       "      <td>14.31</td>\n",
       "      <td>107.55</td>\n",
       "      <td>147.26</td>\n",
       "      <td>10.51</td>\n",
       "      <td>5</td>\n",
       "    </tr>\n",
       "    <tr>\n",
       "      <th>16</th>\n",
       "      <td>1606323600</td>\n",
       "      <td>3204.35</td>\n",
       "      <td>38.89</td>\n",
       "      <td>36.67</td>\n",
       "      <td>0.00</td>\n",
       "      <td>11.33</td>\n",
       "      <td>140.20</td>\n",
       "      <td>183.43</td>\n",
       "      <td>11.91</td>\n",
       "      <td>5</td>\n",
       "    </tr>\n",
       "    <tr>\n",
       "      <th>17</th>\n",
       "      <td>1606327200</td>\n",
       "      <td>3791.81</td>\n",
       "      <td>57.22</td>\n",
       "      <td>31.87</td>\n",
       "      <td>0.00</td>\n",
       "      <td>10.01</td>\n",
       "      <td>174.84</td>\n",
       "      <td>222.00</td>\n",
       "      <td>15.45</td>\n",
       "      <td>5</td>\n",
       "    </tr>\n",
       "    <tr>\n",
       "      <th>18</th>\n",
       "      <td>1606330800</td>\n",
       "      <td>4219.06</td>\n",
       "      <td>69.74</td>\n",
       "      <td>28.10</td>\n",
       "      <td>0.00</td>\n",
       "      <td>6.80</td>\n",
       "      <td>205.23</td>\n",
       "      <td>255.65</td>\n",
       "      <td>18.49</td>\n",
       "      <td>5</td>\n",
       "    </tr>\n",
       "    <tr>\n",
       "      <th>19</th>\n",
       "      <td>1606334400</td>\n",
       "      <td>4539.49</td>\n",
       "      <td>74.21</td>\n",
       "      <td>23.99</td>\n",
       "      <td>0.00</td>\n",
       "      <td>4.11</td>\n",
       "      <td>225.52</td>\n",
       "      <td>274.91</td>\n",
       "      <td>15.07</td>\n",
       "      <td>5</td>\n",
       "    </tr>\n",
       "  </tbody>\n",
       "</table>\n",
       "</div>"
      ],
      "text/plain": [
       "            dt       co     no    no2      o3    so2   pm2_5    pm10    nh3  \\\n",
       "0   1606266000   727.65   3.07  11.14   10.10   2.53   22.03   29.62   7.09   \n",
       "1   1606269600   761.03   5.70  13.54   15.38   5.96   21.35   31.40   9.50   \n",
       "2   1606273200   934.60   8.27  21.25   25.03  12.52   26.29   39.77  12.79   \n",
       "3   1606276800   594.14   3.80  15.42   76.53  12.99   20.08   28.83   7.28   \n",
       "4   1606280400   560.76   2.12  14.40  135.90  18.60   34.19   43.10   6.65   \n",
       "5   1606284000   654.22   2.01  19.19  191.69  35.76   63.55   73.70   7.28   \n",
       "6   1606287600   654.22   0.77  23.99  197.41  44.35   70.69   80.74   7.16   \n",
       "7   1606291200   627.52   0.69  29.82  165.94  42.44   55.14   65.30   7.28   \n",
       "8   1606294800   600.82   0.59  33.59  137.33  37.19   41.74   52.30   7.79   \n",
       "9   1606298400   667.57   0.48  38.04  103.00  26.46   34.72   46.30  13.30   \n",
       "10  1606302000   881.20   0.04  42.50   67.95  16.93   36.74   50.34  20.52   \n",
       "11  1606305600  1094.82   0.00  41.13   45.78  10.49   41.69   56.62  22.04   \n",
       "12  1606309200  1295.09   0.01  43.53   28.25   7.63   47.45   65.88  17.23   \n",
       "13  1606312800  1575.47   0.46  50.72   11.44   9.06   58.50   84.09  14.06   \n",
       "14  1606316400  2056.12   6.09  55.52    0.98  14.78   78.84  112.64  11.91   \n",
       "15  1606320000  2616.88  20.56  47.30    0.01  14.31  107.55  147.26  10.51   \n",
       "16  1606323600  3204.35  38.89  36.67    0.00  11.33  140.20  183.43  11.91   \n",
       "17  1606327200  3791.81  57.22  31.87    0.00  10.01  174.84  222.00  15.45   \n",
       "18  1606330800  4219.06  69.74  28.10    0.00   6.80  205.23  255.65  18.49   \n",
       "19  1606334400  4539.49  74.21  23.99    0.00   4.11  225.52  274.91  15.07   \n",
       "\n",
       "    aqi  \n",
       "0     3  \n",
       "1     3  \n",
       "2     4  \n",
       "3     3  \n",
       "4     4  \n",
       "5     5  \n",
       "6     5  \n",
       "7     5  \n",
       "8     4  \n",
       "9     4  \n",
       "10    4  \n",
       "11    4  \n",
       "12    4  \n",
       "13    5  \n",
       "14    5  \n",
       "15    5  \n",
       "16    5  \n",
       "17    5  \n",
       "18    5  \n",
       "19    5  "
      ]
     },
     "execution_count": 12,
     "metadata": {},
     "output_type": "execute_result"
    }
   ],
   "source": [
    "data_df.head(20)"
   ]
  },
  {
   "cell_type": "markdown",
   "id": "9aa93882",
   "metadata": {},
   "source": [
    "#### Nhìn tổng quan hơn về các dữ liệu "
   ]
  },
  {
   "cell_type": "code",
   "execution_count": 15,
   "id": "6db946f4",
   "metadata": {},
   "outputs": [
    {
     "name": "stdout",
     "output_type": "stream",
     "text": [
      "<class 'pandas.core.frame.DataFrame'>\n",
      "RangeIndex: 1074 entries, 0 to 1073\n",
      "Data columns (total 10 columns):\n",
      " #   Column  Non-Null Count  Dtype  \n",
      "---  ------  --------------  -----  \n",
      " 0   dt      1074 non-null   int64  \n",
      " 1   co      1074 non-null   float64\n",
      " 2   no      1074 non-null   float64\n",
      " 3   no2     1074 non-null   float64\n",
      " 4   o3      1074 non-null   float64\n",
      " 5   so2     1074 non-null   float64\n",
      " 6   pm2_5   1074 non-null   float64\n",
      " 7   pm10    1074 non-null   float64\n",
      " 8   nh3     1074 non-null   float64\n",
      " 9   aqi     1074 non-null   int64  \n",
      "dtypes: float64(8), int64(2)\n",
      "memory usage: 84.0 KB\n"
     ]
    }
   ],
   "source": [
    "data_df.info()"
   ]
  },
  {
   "cell_type": "markdown",
   "id": "213790d7",
   "metadata": {},
   "source": [
    "### Dữ liệu có bao nhiêu dòng và bao nhiêu cột?"
   ]
  },
  {
   "cell_type": "code",
   "execution_count": 17,
   "id": "b248c98b",
   "metadata": {},
   "outputs": [
    {
     "data": {
      "text/plain": [
       "(1074, 10)"
      ]
     },
     "execution_count": 17,
     "metadata": {},
     "output_type": "execute_result"
    }
   ],
   "source": [
    "data_df.shape"
   ]
  },
  {
   "cell_type": "markdown",
   "id": "c4f3e857",
   "metadata": {},
   "source": [
    "### Dữ liệu các dòng có bị lặp không?"
   ]
  },
  {
   "cell_type": "code",
   "execution_count": 18,
   "id": "75eb600a",
   "metadata": {},
   "outputs": [
    {
     "data": {
      "text/plain": [
       "0"
      ]
     },
     "execution_count": 18,
     "metadata": {},
     "output_type": "execute_result"
    }
   ],
   "source": [
    "# Nếu các dòng bị lặp thì chỉ giữ lại dòng đầu tiên vì các dòng trùng không có tác dụng trong việc huấn luyện mô hình.\n",
    "data_df.index.duplicated().sum()"
   ]
  },
  {
   "cell_type": "markdown",
   "id": "33526c3e",
   "metadata": {},
   "source": [
    "Vậy là ta có đủ lượng dữ liệu cần và các dòng dữ liệu cũng không bị trùng lặp.\n",
    "\n",
    "Ta hay xem tiếp ý nghĩa của mỗi cột dữ liệu."
   ]
  },
  {
   "cell_type": "markdown",
   "id": "122418d2",
   "metadata": {},
   "source": [
    "# Tổng quan về dữ liệu \n",
    "Quan sát sơ bộ dữ liệu ta thấy mỗi dòng chứa số liệu của các loại chất khác nhau.\n",
    "Ta có chỉ số chất lượng không khí là aqi. Các giá trị có thể có: 1, 2, 3, 4, 5. Trong đó:\n",
    "\n",
    "- 1 = Tốt.\n",
    "- 2 = Khá.\n",
    "- 3 = Trung bình.\n",
    "- 4 = Kém.\n",
    "- 5 = Rất Kém.\n",
    "\n",
    "Bên cạnh chỉ số Air Quality Index (AQI), API cũng trả về hàm lượng các khí ô nhiễm như:\n",
    "\n"
   ]
  },
  {
   "cell_type": "markdown",
   "id": "51937e98",
   "metadata": {},
   "source": [
    "### CO: Carbon monoxide\n",
    "- Phát sinh khi đốt C trong điều kiện thiếu O2, thường bắt nguồn từ việc đốt nhiên liệu hóa thạch, các phương tiện giao thông \n",
    "\n",
    "- Làm giảm lượng oxy có thể được vận chuyển trong máu đến các cơ quan quan trọng như tim và não, có thể gây chóng mặt, nhầm lẫn, bất tỉnh và tử vong."
   ]
  },
  {
   "cell_type": "markdown",
   "id": "43d3d10b",
   "metadata": {},
   "source": [
    "### NO,NO2: Nitrogen monoxide,Nitrogen dioxide\n",
    "\n",
    "- Chủ yếu bay vào không khí từ quá trình đốt cháy nhiên liệu. NO2 hình thành từ khí thải của ô tô, xe tải và xe buýt, nhà máy điện và thiết bị ngoài đường \n",
    "\n",
    "- Gây kích ứng đường thở trong hệ hô hấp của con người,trong thời gian ngắn có thể làm nặng thêm các bệnh về đường hô hấp, đặc biệt là hen suyễn, dẫn đến các triệu chứng về đường hô hấp (như ho, khò khè hoặc khó thở)"
   ]
  },
  {
   "cell_type": "markdown",
   "id": "576b6de6",
   "metadata": {},
   "source": [
    "### O3: Ozone\n",
    "\n",
    "- Nó được hình thành các phản ứng hóa học với sự có mặt của các chất ô nhiễm tiền chất như NOx và các hợp chất hữu cơ dễ bay hơi VOC \n",
    "\n",
    "- Kích ứng và gây viêm mắt, mũi, họng và đường hô hấp dưới: ho, đau và cào họng hoặc cảm giác khó chịu ở ngực,giảm chức năng phổi: không thể thở sâu hoặc mạnh như bình thường, có thể tiếp tục làm hỏng phổi khi các triệu chứng đã biến mất"
   ]
  },
  {
   "cell_type": "markdown",
   "id": "edeee4d6",
   "metadata": {},
   "source": [
    "### SO2: Sulphur dioxide\n",
    "\n",
    "- Nhà máy điện và nhà máy lọc dầu, chất tẩy rửa khô, trạm dịch vụ xăng dầu và đốt gỗ dân dụng, phương tiện trên đường. \n",
    "\n",
    "- Gây ảnh hưởng xấu đến chức năng hô hấp, đặc biệt đối với những người mắc bệnh hen suyễn"
   ]
  },
  {
   "cell_type": "markdown",
   "id": "8b52c334",
   "metadata": {},
   "source": [
    "### NH3: Ammonia"
   ]
  },
  {
   "cell_type": "markdown",
   "id": "c94218e2",
   "metadata": {},
   "source": [
    "### PM2.5 và PM10: bụi mịn có kích thước nhỏ hơn 2.5 và 10 μm\n",
    "\n",
    "Kết quả của các phản ứng phức tạp của các hóa chất như sulfur dioxide và nitơ oxit, là những chất gây ô nhiễm phát ra từ các nhà máy nhiệt điện, công nghiệp và phương tiện giao thông Gây ra các vấn đề sức khỏe nghiêm trọng Đến đây, ta thấy dữ liệu đã ổn và sẵn sàng cho việc đưa ra câu hỏi về bộ dữ liệu.\n",
    "\n",
    "Gây ra các vấn đề sức khỏe nghiêm trọng đến không gian sống của con người và động vật."
   ]
  },
  {
   "cell_type": "markdown",
   "id": "1a692f53",
   "metadata": {},
   "source": [
    "\n",
    "### Đến đây, ta thấy dữ liệu đã ổn và sẵn sàng cho việc đưa ra câu hỏi về bộ dữ liệu."
   ]
  },
  {
   "cell_type": "markdown",
   "id": "6e03322b",
   "metadata": {},
   "source": [
    "# Đặt ra câu hỏi ở đây là gì? \n",
    "\n",
    "Chất lượng không khí được tính thế nào từ các thông số không khí đo được từ môi trường?"
   ]
  },
  {
   "cell_type": "markdown",
   "id": "23cfb9a8",
   "metadata": {},
   "source": [
    "#### Nếu biết được chất lượng không khí sẽ có rất nhiều lợi ích.\n",
    "\n",
    "- Nếu không khí có chất lượng tốt thì mọi người cần biết giữ gìn và bảo vệ bầu không khí trong lành đó.\n",
    "\n",
    "- Nếu chất lượng không khí không tốt, thậm chí là độc hại thì người dân cần có các biện pháp bảo vệ bản thân như đeo khẩu trang, hạn chế ra khỏi nhà,... Các nhà chức trách cũng sẽ có được các thông tin cần thiết để đưa ra các biện pháp ứng phó kịp thời với việc ô nhiễm không khí đang diễn ra tùy theo mức độ khẩn cấp."
   ]
  },
  {
   "cell_type": "markdown",
   "id": "d7918744",
   "metadata": {},
   "source": [
    "# Khám phá dữ liệu (để biết cách tách các tập)"
   ]
  },
  {
   "cell_type": "code",
   "execution_count": 19,
   "id": "755659dd",
   "metadata": {},
   "outputs": [
    {
     "data": {
      "text/plain": [
       "dtype('int64')"
      ]
     },
     "execution_count": 19,
     "metadata": {},
     "output_type": "execute_result"
    }
   ],
   "source": [
    "# Cột output hiện có kiểu dữ liệu gì?\n",
    "data_df['aqi'].dtype"
   ]
  },
  {
   "cell_type": "code",
   "execution_count": 20,
   "id": "14a69e15",
   "metadata": {},
   "outputs": [
    {
     "data": {
      "text/plain": [
       "0"
      ]
     },
     "execution_count": 20,
     "metadata": {},
     "output_type": "execute_result"
    }
   ],
   "source": [
    "# Cột output có giá trị thiếu không?\n",
    "data_df['aqi'].isna().sum()"
   ]
  },
  {
   "cell_type": "code",
   "execution_count": 21,
   "id": "038f0469",
   "metadata": {},
   "outputs": [
    {
     "data": {
      "text/plain": [
       "5    30.912477\n",
       "4    27.746741\n",
       "2    24.767225\n",
       "1     9.404097\n",
       "3     7.169460\n",
       "Name: aqi, dtype: float64"
      ]
     },
     "execution_count": 21,
     "metadata": {},
     "output_type": "execute_result"
    }
   ],
   "source": [
    "# Tỉ lệ các lớp trong cột output?\n",
    "data_df['aqi'].value_counts(normalize=True) *100"
   ]
  },
  {
   "cell_type": "markdown",
   "id": "a863711d",
   "metadata": {},
   "source": [
    "#### Như vậy cột output đã ở dạng số và không bị thiếu dữ liệu. Tỉ lệ các lớp cũng không có vấn đề gì."
   ]
  },
  {
   "cell_type": "markdown",
   "id": "b998d799",
   "metadata": {},
   "source": [
    "# Tiền xử lý (tách các tập)\n",
    "Bây giờ ta sẽ thực hiện bước tiền xử lý là tách tập validation và tập kiểm tra ra.\n",
    "\n",
    "Ở đây, cột output của dữ liệu chính là cột 'aqi' (chất lượng không khí)."
   ]
  },
  {
   "cell_type": "code",
   "execution_count": 22,
   "id": "61e24337",
   "metadata": {},
   "outputs": [],
   "source": [
    "# Tách X và y\n",
    "y_sr = data_df[\"aqi\"] # sr là viết tắt của series\n",
    "X_df = data_df.drop(\"aqi\", axis=1)"
   ]
  },
  {
   "cell_type": "markdown",
   "id": "ac518bfa",
   "metadata": {},
   "source": [
    "#### Tách dữ liệu theo tỉ lệ: 80% cho tập train, 10% cho tập validation, 10% cho tập test."
   ]
  },
  {
   "cell_type": "code",
   "execution_count": 23,
   "id": "1404160c",
   "metadata": {},
   "outputs": [],
   "source": [
    "# Tách tập (train, validation) và tập test\n",
    "new_X_df, test_X_df, new_y_sr, test_y_sr = train_test_split(X_df, y_sr, test_size = 0.1, \n",
    "                                                             stratify=y_sr, random_state=50)"
   ]
  },
  {
   "cell_type": "code",
   "execution_count": 24,
   "id": "04de7839",
   "metadata": {},
   "outputs": [],
   "source": [
    "# Tách tập train và tập validation\n",
    "train_X_df, val_X_df, train_y_sr, val_y_sr = train_test_split(new_X_df, new_y_sr, test_size=(1/9), \n",
    "                                                              stratify=new_y_sr, random_state=50)"
   ]
  },
  {
   "cell_type": "code",
   "execution_count": 25,
   "id": "0e908b99",
   "metadata": {},
   "outputs": [
    {
     "data": {
      "text/plain": [
       "(858, 9)"
      ]
     },
     "execution_count": 25,
     "metadata": {},
     "output_type": "execute_result"
    }
   ],
   "source": [
    "train_X_df.shape"
   ]
  },
  {
   "cell_type": "code",
   "execution_count": 26,
   "id": "300808fe",
   "metadata": {},
   "outputs": [
    {
     "data": {
      "text/plain": [
       "(858,)"
      ]
     },
     "execution_count": 26,
     "metadata": {},
     "output_type": "execute_result"
    }
   ],
   "source": [
    "train_y_sr.shape"
   ]
  },
  {
   "cell_type": "code",
   "execution_count": 27,
   "id": "ebdb001a",
   "metadata": {},
   "outputs": [
    {
     "data": {
      "text/plain": [
       "(108, 9)"
      ]
     },
     "execution_count": 27,
     "metadata": {},
     "output_type": "execute_result"
    }
   ],
   "source": [
    "val_X_df.shape"
   ]
  },
  {
   "cell_type": "code",
   "execution_count": 28,
   "id": "1464cd13",
   "metadata": {},
   "outputs": [
    {
     "data": {
      "text/plain": [
       "(108,)"
      ]
     },
     "execution_count": 28,
     "metadata": {},
     "output_type": "execute_result"
    }
   ],
   "source": [
    "val_y_sr.shape"
   ]
  },
  {
   "cell_type": "code",
   "execution_count": 29,
   "id": "ddb415fb",
   "metadata": {},
   "outputs": [
    {
     "data": {
      "text/plain": [
       "(108, 9)"
      ]
     },
     "execution_count": 29,
     "metadata": {},
     "output_type": "execute_result"
    }
   ],
   "source": [
    "test_X_df.shape"
   ]
  },
  {
   "cell_type": "code",
   "execution_count": 30,
   "id": "15437004",
   "metadata": {},
   "outputs": [
    {
     "data": {
      "text/plain": [
       "(108,)"
      ]
     },
     "execution_count": 30,
     "metadata": {},
     "output_type": "execute_result"
    }
   ],
   "source": [
    "\n",
    "test_y_sr.shape"
   ]
  },
  {
   "cell_type": "markdown",
   "id": "7966798d",
   "metadata": {},
   "source": [
    "# Khám phá dữ liệu (tập huấn luyện)"
   ]
  },
  {
   "cell_type": "markdown",
   "id": "ac47bf52",
   "metadata": {},
   "source": [
    "### Dữ liệu thu được đang ở dạng gì?"
   ]
  },
  {
   "cell_type": "code",
   "execution_count": 31,
   "id": "4fc5128b",
   "metadata": {},
   "outputs": [
    {
     "data": {
      "text/plain": [
       "dt         int64\n",
       "co       float64\n",
       "no       float64\n",
       "no2      float64\n",
       "o3       float64\n",
       "so2      float64\n",
       "pm2_5    float64\n",
       "pm10     float64\n",
       "nh3      float64\n",
       "dtype: object"
      ]
     },
     "execution_count": 31,
     "metadata": {},
     "output_type": "execute_result"
    }
   ],
   "source": [
    "train_X_df.dtypes"
   ]
  },
  {
   "cell_type": "markdown",
   "id": "385c73c2",
   "metadata": {},
   "source": [
    "#### Như vậy, dữ liệu thu thập đều ở dạng mong muốn mà không phải xử lý gì thêm. Ở đây, tất cả các cột đều ở dạng số."
   ]
  },
  {
   "cell_type": "markdown",
   "id": "1a177e30",
   "metadata": {},
   "source": [
    "### Dữ liệu được phân bố ra sao?"
   ]
  },
  {
   "cell_type": "code",
   "execution_count": 32,
   "id": "51244e7b",
   "metadata": {},
   "outputs": [
    {
     "data": {
      "text/html": [
       "<div>\n",
       "<style scoped>\n",
       "    .dataframe tbody tr th:only-of-type {\n",
       "        vertical-align: middle;\n",
       "    }\n",
       "\n",
       "    .dataframe tbody tr th {\n",
       "        vertical-align: top;\n",
       "    }\n",
       "\n",
       "    .dataframe thead th {\n",
       "        text-align: right;\n",
       "    }\n",
       "</style>\n",
       "<table border=\"1\" class=\"dataframe\">\n",
       "  <thead>\n",
       "    <tr style=\"text-align: right;\">\n",
       "      <th></th>\n",
       "      <th>dt</th>\n",
       "      <th>co</th>\n",
       "      <th>no</th>\n",
       "      <th>no2</th>\n",
       "      <th>o3</th>\n",
       "      <th>so2</th>\n",
       "      <th>pm2_5</th>\n",
       "      <th>pm10</th>\n",
       "      <th>nh3</th>\n",
       "    </tr>\n",
       "  </thead>\n",
       "  <tbody>\n",
       "    <tr>\n",
       "      <th>missing_ratio</th>\n",
       "      <td>0.000000e+00</td>\n",
       "      <td>0.00</td>\n",
       "      <td>0.00</td>\n",
       "      <td>0.00</td>\n",
       "      <td>0.00</td>\n",
       "      <td>0.00</td>\n",
       "      <td>0.00</td>\n",
       "      <td>0.00</td>\n",
       "      <td>0.00</td>\n",
       "    </tr>\n",
       "    <tr>\n",
       "      <th>min</th>\n",
       "      <td>1.606266e+09</td>\n",
       "      <td>283.72</td>\n",
       "      <td>0.00</td>\n",
       "      <td>1.21</td>\n",
       "      <td>0.00</td>\n",
       "      <td>0.95</td>\n",
       "      <td>4.55</td>\n",
       "      <td>5.45</td>\n",
       "      <td>1.54</td>\n",
       "    </tr>\n",
       "    <tr>\n",
       "      <th>lower_quartile</th>\n",
       "      <td>1.607239e+09</td>\n",
       "      <td>480.60</td>\n",
       "      <td>0.00</td>\n",
       "      <td>6.70</td>\n",
       "      <td>13.40</td>\n",
       "      <td>2.50</td>\n",
       "      <td>14.90</td>\n",
       "      <td>18.50</td>\n",
       "      <td>4.80</td>\n",
       "    </tr>\n",
       "    <tr>\n",
       "      <th>median</th>\n",
       "      <td>1.608208e+09</td>\n",
       "      <td>680.90</td>\n",
       "      <td>0.20</td>\n",
       "      <td>14.70</td>\n",
       "      <td>40.80</td>\n",
       "      <td>4.60</td>\n",
       "      <td>30.30</td>\n",
       "      <td>37.60</td>\n",
       "      <td>7.60</td>\n",
       "    </tr>\n",
       "    <tr>\n",
       "      <th>upper_quartile</th>\n",
       "      <td>1.609188e+09</td>\n",
       "      <td>1158.20</td>\n",
       "      <td>1.30</td>\n",
       "      <td>28.80</td>\n",
       "      <td>65.80</td>\n",
       "      <td>13.10</td>\n",
       "      <td>59.70</td>\n",
       "      <td>71.30</td>\n",
       "      <td>11.80</td>\n",
       "    </tr>\n",
       "    <tr>\n",
       "      <th>max</th>\n",
       "      <td>1.610129e+09</td>\n",
       "      <td>4592.90</td>\n",
       "      <td>89.41</td>\n",
       "      <td>131.61</td>\n",
       "      <td>246.05</td>\n",
       "      <td>82.02</td>\n",
       "      <td>240.65</td>\n",
       "      <td>275.21</td>\n",
       "      <td>94.24</td>\n",
       "    </tr>\n",
       "  </tbody>\n",
       "</table>\n",
       "</div>"
      ],
      "text/plain": [
       "                          dt       co     no     no2      o3    so2   pm2_5  \\\n",
       "missing_ratio   0.000000e+00     0.00   0.00    0.00    0.00   0.00    0.00   \n",
       "min             1.606266e+09   283.72   0.00    1.21    0.00   0.95    4.55   \n",
       "lower_quartile  1.607239e+09   480.60   0.00    6.70   13.40   2.50   14.90   \n",
       "median          1.608208e+09   680.90   0.20   14.70   40.80   4.60   30.30   \n",
       "upper_quartile  1.609188e+09  1158.20   1.30   28.80   65.80  13.10   59.70   \n",
       "max             1.610129e+09  4592.90  89.41  131.61  246.05  82.02  240.65   \n",
       "\n",
       "                  pm10    nh3  \n",
       "missing_ratio     0.00   0.00  \n",
       "min               5.45   1.54  \n",
       "lower_quartile   18.50   4.80  \n",
       "median           37.60   7.60  \n",
       "upper_quartile   71.30  11.80  \n",
       "max             275.21  94.24  "
      ]
     },
     "execution_count": 32,
     "metadata": {},
     "output_type": "execute_result"
    }
   ],
   "source": [
    "def missing_ratio(df):\n",
    "    return (df.isna().mean() * 100).round(1)\n",
    "def lower_quartile(df):\n",
    "    return df.quantile(0.25).round(1)\n",
    "def median(df):\n",
    "    return df.quantile(0.5).round(1)\n",
    "def upper_quartile(df):\n",
    "    return df.quantile(0.75).round(1)\n",
    "train_X_df.agg([missing_ratio, 'min', lower_quartile, median, upper_quartile, 'max'])"
   ]
  },
  {
   "cell_type": "markdown",
   "id": "ff9428b4",
   "metadata": {},
   "source": [
    "#### Như vậy là dữ liệu không có giá trị thiếu. Có thể thấy nguồn dữ liệu là rất tin cậy và đầy đủ"
   ]
  },
  {
   "cell_type": "markdown",
   "id": "8b02420c",
   "metadata": {},
   "source": [
    "### Tiền xử lý tập huấn luyện\n",
    "\n",
    "Với tập dữ liệu thu được, ta nhận thấy cột dt (Date and Time) ghi nhận số giây từ 1/1/1970 đến thời điểm thu thập dữ liệu là không cần thiết với việc đánh giá chất lượng không khí nên ta sẽ thực hiện xóa cột này đi. Việc này sẽ thực hiện trong hàm ColDropper."
   ]
  },
  {
   "cell_type": "code",
   "execution_count": 33,
   "id": "7398bd5b",
   "metadata": {},
   "outputs": [],
   "source": [
    "class ColDropper(BaseEstimator, TransformerMixin):\n",
    "    def __init__(self):\n",
    "        pass\n",
    "    def fit(self, X_df, y=None):\n",
    "        return self\n",
    "    def transform(self, X_df, y=None):\n",
    "        df = X_df.drop('dt', axis=1)\n",
    "        return df"
   ]
  },
  {
   "cell_type": "code",
   "execution_count": 35,
   "id": "bf23dd12",
   "metadata": {},
   "outputs": [
    {
     "data": {
      "text/plain": [
       "ColDropper()"
      ]
     },
     "execution_count": 35,
     "metadata": {},
     "output_type": "execute_result"
    }
   ],
   "source": [
    "col_dropper = ColDropper()\n",
    "col_dropper.fit(train_X_df)"
   ]
  },
  {
   "cell_type": "code",
   "execution_count": 36,
   "id": "f17e7d60",
   "metadata": {},
   "outputs": [
    {
     "data": {
      "text/html": [
       "<div>\n",
       "<style scoped>\n",
       "    .dataframe tbody tr th:only-of-type {\n",
       "        vertical-align: middle;\n",
       "    }\n",
       "\n",
       "    .dataframe tbody tr th {\n",
       "        vertical-align: top;\n",
       "    }\n",
       "\n",
       "    .dataframe thead th {\n",
       "        text-align: right;\n",
       "    }\n",
       "</style>\n",
       "<table border=\"1\" class=\"dataframe\">\n",
       "  <thead>\n",
       "    <tr style=\"text-align: right;\">\n",
       "      <th></th>\n",
       "      <th>co</th>\n",
       "      <th>no</th>\n",
       "      <th>no2</th>\n",
       "      <th>o3</th>\n",
       "      <th>so2</th>\n",
       "      <th>pm2_5</th>\n",
       "      <th>pm10</th>\n",
       "      <th>nh3</th>\n",
       "    </tr>\n",
       "  </thead>\n",
       "  <tbody>\n",
       "    <tr>\n",
       "      <th>974</th>\n",
       "      <td>1508.71</td>\n",
       "      <td>1.62</td>\n",
       "      <td>61.69</td>\n",
       "      <td>2.12</td>\n",
       "      <td>21.46</td>\n",
       "      <td>67.04</td>\n",
       "      <td>90.39</td>\n",
       "      <td>27.87</td>\n",
       "    </tr>\n",
       "    <tr>\n",
       "      <th>854</th>\n",
       "      <td>453.95</td>\n",
       "      <td>0.00</td>\n",
       "      <td>12.17</td>\n",
       "      <td>55.79</td>\n",
       "      <td>10.13</td>\n",
       "      <td>14.63</td>\n",
       "      <td>18.49</td>\n",
       "      <td>4.31</td>\n",
       "    </tr>\n",
       "    <tr>\n",
       "      <th>211</th>\n",
       "      <td>347.14</td>\n",
       "      <td>0.00</td>\n",
       "      <td>4.88</td>\n",
       "      <td>61.51</td>\n",
       "      <td>2.33</td>\n",
       "      <td>21.21</td>\n",
       "      <td>29.40</td>\n",
       "      <td>6.14</td>\n",
       "    </tr>\n",
       "    <tr>\n",
       "      <th>1054</th>\n",
       "      <td>720.98</td>\n",
       "      <td>0.18</td>\n",
       "      <td>16.97</td>\n",
       "      <td>9.48</td>\n",
       "      <td>2.33</td>\n",
       "      <td>24.32</td>\n",
       "      <td>31.66</td>\n",
       "      <td>13.30</td>\n",
       "    </tr>\n",
       "    <tr>\n",
       "      <th>980</th>\n",
       "      <td>794.41</td>\n",
       "      <td>0.05</td>\n",
       "      <td>16.79</td>\n",
       "      <td>15.20</td>\n",
       "      <td>2.27</td>\n",
       "      <td>26.06</td>\n",
       "      <td>29.56</td>\n",
       "      <td>7.73</td>\n",
       "    </tr>\n",
       "  </tbody>\n",
       "</table>\n",
       "</div>"
      ],
      "text/plain": [
       "           co    no    no2     o3    so2  pm2_5   pm10    nh3\n",
       "974   1508.71  1.62  61.69   2.12  21.46  67.04  90.39  27.87\n",
       "854    453.95  0.00  12.17  55.79  10.13  14.63  18.49   4.31\n",
       "211    347.14  0.00   4.88  61.51   2.33  21.21  29.40   6.14\n",
       "1054   720.98  0.18  16.97   9.48   2.33  24.32  31.66  13.30\n",
       "980    794.41  0.05  16.79  15.20   2.27  26.06  29.56   7.73"
      ]
     },
     "execution_count": 36,
     "metadata": {},
     "output_type": "execute_result"
    }
   ],
   "source": [
    "#Test\n",
    "fewer_cols_train_X_df = col_dropper.transform(train_X_df)\n",
    "fewer_cols_train_X_df.head(5)"
   ]
  },
  {
   "cell_type": "markdown",
   "id": "82387e75",
   "metadata": {},
   "source": [
    "# Tiền xử lý + mô hình hóa"
   ]
  },
  {
   "cell_type": "markdown",
   "id": "4c784372",
   "metadata": {},
   "source": [
    "# Thử nghiệm với mô hình MLP Classifier\n",
    "\n",
    "Tạo pipeline với các với các siêu tham số MLPClassifier gồm hidden_layer_sizes=(20), activation='tanh', solver='lbfgs', random_state=0, max_iter=2500). Điền các giá trị thiếu bằng giá trị trung bình."
   ]
  },
  {
   "cell_type": "code",
   "execution_count": 39,
   "id": "4e3b54dd",
   "metadata": {},
   "outputs": [],
   "source": [
    "pipeline = make_pipeline(ColDropper(),\n",
    "                         SimpleImputer(missing_values=np.nan, strategy='mean'),\n",
    "                         StandardScaler(),\n",
    "                         MLPClassifier(hidden_layer_sizes=(20), activation='relu', solver='lbfgs', random_state=0, max_iter=2500))"
   ]
  },
  {
   "cell_type": "code",
   "execution_count": 40,
   "id": "5d03f699",
   "metadata": {},
   "outputs": [
    {
     "data": {
      "text/plain": [
       "'Finish!'"
      ]
     },
     "execution_count": 40,
     "metadata": {},
     "output_type": "execute_result"
    }
   ],
   "source": [
    "# Thử nghiệm với các giá trị khác nhau của các siêu tham số\n",
    "# và chọn ra các giá trị tốt nhất\n",
    "train_errs = []\n",
    "val_errs = []\n",
    "alphas = [0.01, 0.1, 1, 10, 100, 1000]\n",
    "best_val_err = float('inf'); best_alpha = None\n",
    "for alpha in alphas:\n",
    "    pipeline.set_params(mlpclassifier__alpha=alpha)\n",
    "    pipeline.fit(train_X_df, train_y_sr)\n",
    "    train_errs.append((1 - pipeline.score(train_X_df, train_y_sr))*100)\n",
    "    val_errs.append((1 - pipeline.score(val_X_df, val_y_sr))*100)\n",
    "    if val_errs[-1] <= best_val_err:\n",
    "        best_val_err = val_errs[-1]\n",
    "        best_alpha = alpha\n",
    "'Finish!'"
   ]
  },
  {
   "cell_type": "markdown",
   "id": "ae15e73d",
   "metadata": {},
   "source": [
    "#### Độ lỗi trên tập huấn luyện và tập validation ứng với giá trị alpha như sau:"
   ]
  },
  {
   "cell_type": "code",
   "execution_count": 41,
   "id": "f5585c3c",
   "metadata": {},
   "outputs": [
    {
     "data": {
      "image/png": "[encoded data removed]",
      "text/plain": [
       "<Figure size 432x288 with 1 Axes>"
      ]
     },
     "metadata": {
      "needs_background": "light"
     },
     "output_type": "display_data"
    }
   ],
   "source": [
    "ser1 = pd.Series(train_errs)\n",
    "ser2 = pd.Series(val_errs)\n",
    "\n",
    "ind = np.arange(len(ser1))\n",
    "width = 0.35\n",
    "fig, ax = plt.subplots()\n",
    "ax.bar(ind - width/2, ser1, width, label='Train Error')\n",
    "ax.bar(ind + width/2, ser2, width, label='Validation Error')\n",
    "\n",
    "ax.set_xlabel('Alphas')\n",
    "ax.set_ylabel('Tỉ lệ %')\n",
    "ax.set_title('Độ lỗi trên tập train và tập validation ứng với các giá trị alpha')\n",
    "ax.set_xticks([0, 1, 2, 3, 4, 5])\n",
    "ax.set_xticklabels(alphas)\n",
    "ax.legend()\n",
    "\n",
    "plt.show()"
   ]
  },
  {
   "cell_type": "code",
   "execution_count": 42,
   "id": "2aa9830b",
   "metadata": {
    "scrolled": true
   },
   "outputs": [
    {
     "name": "stdout",
     "output_type": "stream",
     "text": [
      "Best validation error: 0.93%\n",
      "Best alpha: 0.1\n"
     ]
    }
   ],
   "source": [
    "print(\"Best validation error: \" + str(best_val_err.round(2)) + '%')\n",
    "print(\"Best alpha: \" + str(best_alpha))"
   ]
  },
  {
   "cell_type": "markdown",
   "id": "a5b9e1ff",
   "metadata": {},
   "source": [
    "#### Tạo full pipeline với best alpha vừa tìm được, huấn luyện trên tập train + tập validation"
   ]
  },
  {
   "cell_type": "code",
   "execution_count": 43,
   "id": "c24ac311",
   "metadata": {},
   "outputs": [
    {
     "data": {
      "text/plain": [
       "Pipeline(steps=[('coldropper', ColDropper()),\n",
       "                ('simpleimputer', SimpleImputer()),\n",
       "                ('standardscaler', StandardScaler()),\n",
       "                ('mlpclassifier',\n",
       "                 MLPClassifier(alpha=0.1, hidden_layer_sizes=20, max_iter=2500,\n",
       "                               random_state=0, solver='lbfgs'))])"
      ]
     },
     "execution_count": 43,
     "metadata": {},
     "output_type": "execute_result"
    }
   ],
   "source": [
    "full_pipeline = pipeline.set_params(mlpclassifier__alpha=best_alpha)\n",
    "full_pipeline.fit(new_X_df, new_y_sr)"
   ]
  },
  {
   "cell_type": "markdown",
   "id": "a621a087",
   "metadata": {},
   "source": [
    "### Độ lỗi trên tập huấn luyện:"
   ]
  },
  {
   "cell_type": "code",
   "execution_count": 44,
   "id": "ad9c4547",
   "metadata": {},
   "outputs": [
    {
     "data": {
      "text/plain": [
       "0.10351966873706209"
      ]
     },
     "execution_count": 44,
     "metadata": {},
     "output_type": "execute_result"
    }
   ],
   "source": [
    "(1 - full_pipeline.score(new_X_df, new_y_sr))*100"
   ]
  },
  {
   "cell_type": "markdown",
   "id": "5be2cf19",
   "metadata": {},
   "source": [
    "### Độ lỗi trên tập test là:"
   ]
  },
  {
   "cell_type": "code",
   "execution_count": 45,
   "id": "e0781086",
   "metadata": {},
   "outputs": [
    {
     "data": {
      "text/plain": [
       "1.851851851851849"
      ]
     },
     "execution_count": 45,
     "metadata": {},
     "output_type": "execute_result"
    }
   ],
   "source": [
    "(1 - full_pipeline.score(test_X_df, test_y_sr))*100"
   ]
  },
  {
   "cell_type": "markdown",
   "id": "50f6fbb9",
   "metadata": {},
   "source": [
    "### Nhận xét\n",
    "Với mô hình huấn luyện này, độ lỗi thu được trên tập test là ổn và có thể chấp nhận được => Mô hình phân lớp khá tốt khi chon siêu tham số alpha 1 cách hợp lí.\n",
    "\n",
    "# Thử nghiệm với mô hình K-Neighbors Classifier\n",
    "\n",
    "Tạo pipeline, điền các giá trị thiếu bằng giá trị trung bình."
   ]
  },
  {
   "cell_type": "code",
   "execution_count": 46,
   "id": "d6d47b79",
   "metadata": {},
   "outputs": [],
   "source": [
    "pipeline2 = make_pipeline(ColDropper(),\n",
    "                         SimpleImputer(missing_values=np.nan, strategy='mean'),\n",
    "                         StandardScaler(),\n",
    "                         KNeighborsClassifier())"
   ]
  },
  {
   "cell_type": "code",
   "execution_count": 47,
   "id": "de56e254",
   "metadata": {},
   "outputs": [
    {
     "data": {
      "text/plain": [
       "'Finish!'"
      ]
     },
     "execution_count": 47,
     "metadata": {},
     "output_type": "execute_result"
    }
   ],
   "source": [
    "# Thử nghiệm với các giá trị và chọn ra các số neighbors tốt nhất\n",
    "train_errs = []\n",
    "val_errs = []\n",
    "neighbors = [1, 3, 5, 10, 20, 30, 50]\n",
    "best_val_err = float('inf'); best_neighbor = None\n",
    "for neighbor in neighbors:\n",
    "    pipeline2.set_params(kneighborsclassifier__n_neighbors = neighbor)\n",
    "    pipeline2.fit(train_X_df, train_y_sr)\n",
    "    train_errs.append((1 - pipeline2.score(train_X_df, train_y_sr))*100)\n",
    "    val_errs.append((1 - pipeline2.score(val_X_df, val_y_sr))*100)\n",
    "    if val_errs[-1] <= best_val_err:\n",
    "        best_val_err = val_errs[-1]\n",
    "        best_neighbor = neighbor\n",
    "'Finish!'"
   ]
  },
  {
   "cell_type": "markdown",
   "id": "fe45fc03",
   "metadata": {},
   "source": [
    "#### Độ lỗi trên tập huấn luyện và tập validation ứng với giá trị neighbors như sau:"
   ]
  },
  {
   "cell_type": "code",
   "execution_count": 48,
   "id": "058292ab",
   "metadata": {},
   "outputs": [
    {
     "data": {
      "image/png": "[encoded data removed]",
      "text/plain": [
       "<Figure size 432x288 with 1 Axes>"
      ]
     },
     "metadata": {
      "needs_background": "light"
     },
     "output_type": "display_data"
    }
   ],
   "source": [
    "ser1 = pd.Series(train_errs)\n",
    "ser2 = pd.Series(val_errs)\n",
    "\n",
    "ind = np.arange(len(ser1))\n",
    "width = 0.35\n",
    "fig, ax = plt.subplots()\n",
    "ax.bar(ind - width/2, ser1, width, label='Train Error')\n",
    "ax.bar(ind + width/2, ser2, width, label='Validation Error')\n",
    "\n",
    "ax.set_xlabel('Neighbors')\n",
    "ax.set_ylabel('Tỉ lệ %')\n",
    "ax.set_title('Độ lỗi trên tập train và tập validation ứng với các giá trị neighbor')\n",
    "ax.set_xticks([0, 1, 2, 3, 4, 5, 6])\n",
    "ax.set_xticklabels(labels=neighbors)\n",
    "ax.legend()\n",
    "\n",
    "plt.show()"
   ]
  },
  {
   "cell_type": "code",
   "execution_count": 49,
   "id": "8e74623d",
   "metadata": {},
   "outputs": [
    {
     "name": "stdout",
     "output_type": "stream",
     "text": [
      "Best validation error: 12.04%\n",
      "Best neighbors: 3\n"
     ]
    }
   ],
   "source": [
    "print(\"Best validation error: \" + str(best_val_err.round(2)) + '%')\n",
    "print(\"Best neighbors: \" + str(best_neighbor))"
   ]
  },
  {
   "cell_type": "markdown",
   "id": "cc40bcf5",
   "metadata": {},
   "source": [
    "#### Tạo full pipeline vói best alpha vừa tìm được, huấn luyện trên tập train + tập validation"
   ]
  },
  {
   "cell_type": "code",
   "execution_count": 50,
   "id": "2d2ffa70",
   "metadata": {},
   "outputs": [
    {
     "data": {
      "text/plain": [
       "Pipeline(steps=[('coldropper', ColDropper()),\n",
       "                ('simpleimputer', SimpleImputer()),\n",
       "                ('standardscaler', StandardScaler()),\n",
       "                ('kneighborsclassifier', KNeighborsClassifier(n_neighbors=3))])"
      ]
     },
     "execution_count": 50,
     "metadata": {},
     "output_type": "execute_result"
    }
   ],
   "source": [
    "full_pipeline2 = pipeline2.set_params(kneighborsclassifier__n_neighbors=best_neighbor)\n",
    "full_pipeline2.fit(new_X_df, new_y_sr)"
   ]
  },
  {
   "cell_type": "markdown",
   "id": "bfe75df5",
   "metadata": {},
   "source": [
    "### Độ lỗi trên tập huấn luyện"
   ]
  },
  {
   "cell_type": "code",
   "execution_count": 51,
   "id": "f5ff93af",
   "metadata": {},
   "outputs": [
    {
     "data": {
      "text/plain": [
       "4.865424430641818"
      ]
     },
     "execution_count": 51,
     "metadata": {},
     "output_type": "execute_result"
    }
   ],
   "source": [
    "(1- pipeline2.score(new_X_df, new_y_sr)) * 100"
   ]
  },
  {
   "cell_type": "markdown",
   "id": "7cb08c91",
   "metadata": {},
   "source": [
    "### Độ lỗi trên tập test"
   ]
  },
  {
   "cell_type": "code",
   "execution_count": 103,
   "id": "250b73e6",
   "metadata": {},
   "outputs": [
    {
     "data": {
      "text/plain": [
       "11.111111111111116"
      ]
     },
     "execution_count": 103,
     "metadata": {},
     "output_type": "execute_result"
    }
   ],
   "source": [
    "(1- pipeline2.score(test_X_df, test_y_sr)) * 100"
   ]
  },
  {
   "cell_type": "markdown",
   "id": "89c9bb2c",
   "metadata": {},
   "source": [
    "### Nhận xét\n",
    "\n",
    "Như vậy độ lỗi trên tập test lớn hơn nhiều so với độ lỗi trên tập huấn luyện.\n",
    "\n",
    "# Thử nghiệm với mô hình Decision Tree Classifier\n",
    "\n",
    "Tạo pipeline, điền các giá trị thiếu bằng giá trị trung bình."
   ]
  },
  {
   "cell_type": "code",
   "execution_count": 104,
   "id": "7215659f",
   "metadata": {},
   "outputs": [],
   "source": [
    "pipeline3 = make_pipeline(ColDropper(),\n",
    "                         SimpleImputer(missing_values=np.nan, strategy='mean'),\n",
    "                         StandardScaler(),\n",
    "                         DecisionTreeClassifier())"
   ]
  },
  {
   "cell_type": "code",
   "execution_count": 106,
   "id": "7ade871e",
   "metadata": {},
   "outputs": [
    {
     "data": {
      "text/plain": [
       "Pipeline(steps=[('coldropper', ColDropper()),\n",
       "                ('simpleimputer', SimpleImputer()),\n",
       "                ('standardscaler', StandardScaler()),\n",
       "                ('decisiontreeclassifier', DecisionTreeClassifier())])"
      ]
     },
     "execution_count": 106,
     "metadata": {},
     "output_type": "execute_result"
    }
   ],
   "source": [
    "# Fit dữ liệu vào mô hình.\n",
    "pipeline3.fit(new_X_df, new_y_sr)"
   ]
  },
  {
   "cell_type": "markdown",
   "id": "67b431f1",
   "metadata": {},
   "source": [
    "### Độ lỗi trên tập huấn luyện và tập validation:\n",
    "\n"
   ]
  },
  {
   "cell_type": "code",
   "execution_count": 107,
   "id": "adfd22b6",
   "metadata": {},
   "outputs": [
    {
     "data": {
      "text/plain": [
       "0.0"
      ]
     },
     "execution_count": 107,
     "metadata": {},
     "output_type": "execute_result"
    }
   ],
   "source": [
    "(1 -pipeline3.score(new_X_df, new_y_sr)) * 100"
   ]
  },
  {
   "cell_type": "markdown",
   "id": "9486db00",
   "metadata": {},
   "source": [
    "### Độ lỗi trên tập test:\n",
    "\n"
   ]
  },
  {
   "cell_type": "code",
   "execution_count": 108,
   "id": "617b088a",
   "metadata": {},
   "outputs": [
    {
     "data": {
      "text/plain": [
       "0.0"
      ]
     },
     "execution_count": 108,
     "metadata": {},
     "output_type": "execute_result"
    }
   ],
   "source": [
    "(1 - pipeline3.score(test_X_df, test_y_sr)) * 100"
   ]
  },
  {
   "cell_type": "markdown",
   "id": "9d1e2998",
   "metadata": {},
   "source": [
    "## Nhận xét\n",
    "Vậy, trong trường hợp bài toán này thì Decision Tree thực hiện phân lớp với độ chính xác cao hơn nhiều trên tập test so với thuật toán MLP."
   ]
  },
  {
   "cell_type": "markdown",
   "id": "2fe76bf8",
   "metadata": {},
   "source": [
    "## Kết luận:\n",
    "Các thuật toán nhóm đã chọn fit khá tốt với tập dữ liệu đã chọn. Tuy nhiên độ lỗi trên tập test của thuật toán K-Neighbors Classifier là khá cao (gần 11,1%) nên ta chỉ nên xem xét sử dụng MLPClassifier hay Decision Tree Classifier để đánh giá khi có tập test mới để có được dự đoán kết quả chất lượng không khí tin cậy nhất. chọn fit khá tốt với tập dữ liệu đã chọn. Tuy nhiên độ lỗi trên tập test của thuật toán K-Neighbors Classifier là khá cao (gần 11.1%) nên ta chỉ nên xem xét sử dụng MLPClassifier hay Decision Tree Classifier để đánh giá khi có tập test mới để có được dự đoán kết quả chất lượng không khí tin cậy nhất.\n",
    "\n",
    "Việc lọc ra các ngày không khí bị ô nhiễm ở các mức độ từ thấp đến cao trong thực tế rất có ích cho việc theo dõi chất lượng tại khu vực sống của mình và gia đình, từ đó có những biện pháp phù hợp để bảo đảm sức khoẻ chobanr thân và cộng đồng dựa trên mô hình được chọn."
   ]
  },
  {
   "cell_type": "markdown",
   "id": "96a0f7f6",
   "metadata": {},
   "source": [
    "## Những điều hữu ích học được\n",
    "- Có kinh nghiệm hơn trong việc thu thập dữ liệu và tiền xử lý dữ liệu.\n",
    "- Biết cách mô hình hóa dữ liệu và đánh giá mô hình thu được.\n",
    "- Biết thêm những thuật toán phân lớp hữu ích.\n",
    "\n",
    "Nếu có thêm thời gian thì nhóm em sẽ thu thập thêm nhiều loại dữ liệu đa dạng hơn, thử mô hình hóa với nhiều thông số khác nhau của các thuật toán phân lớp để có được mô hình và độ lỗi test tốt nhất."
   ]
  },
  {
   "cell_type": "markdown",
   "id": "ae3dd99f",
   "metadata": {},
   "source": [
    "## Tài liệu tham khảo\n",
    "https://scikit-learn.org (Tham khảo các thuật toán phân lớp có trong đồ án).\n",
    "\n",
    "https://openweathermap.org/api (Tham khảo về ý nghĩa của các cột dữ liệu thu được)\n",
    "\n",
    "Tham khảo cách tiền xử lý, khám phá, mô hình hóa dữ liệu từ Bài tập 03 và các bài tập trước đó.\n",
    "\n",
    "Slide bài giảng."
   ]
  },
  {
   "cell_type": "code",
   "execution_count": null,
   "id": "4e39af8e",
   "metadata": {},
   "outputs": [],
   "source": []
  }
 ],
 "metadata": {
  "kernelspec": {
   "display_name": "Python 3 (ipykernel)",
   "language": "python",
   "name": "python3"
  },
  "language_info": {
   "codemirror_mode": {
    "name": "ipython",
    "version": 3
   },
   "file_extension": ".py",
   "mimetype": "text/x-python",
   "name": "python",
   "nbconvert_exporter": "python",
   "pygments_lexer": "ipython3",
   "version": "3.9.13"
  }
 },
 "nbformat": 4,
 "nbformat_minor": 5
}
